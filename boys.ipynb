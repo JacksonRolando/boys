{
 "cells": [
  {
   "cell_type": "code",
   "execution_count": 5,
   "metadata": {},
   "outputs": [],
   "source": [
    "boys = {\n",
    "        \"Connor\":\n",
    "            [\n",
    "                \"Good in bed?\",\n",
    "                \"Smart? Engineer\",\n",
    "                \"Pretty sweet apartment\",\n",
    "                \"Puts effort into appearance\",\n",
    "                \"goes for it (ice skating)\",\n",
    "                \"irresponsible with pets\",\n",
    "                \"constantly on \\\"brink of death\\\" - won't climb\",\n",
    "                \"too much PDA\",\n",
    "                \"leaves early and takes Zoe with him\",\n",
    "                \"doesn't make it (ice skating)\",\n",
    "                \"high 100%% of the time\"\n",
    "            ],\n",
    "        \"Nicholas\": \n",
    "            [\n",
    "                \"8 pack\",\n",
    "                \"alpine valley\",\n",
    "                \"gives tea (generous boy)\",\n",
    "                \"responsible\",\n",
    "                \"anchorman & engineer\",\n",
    "                \"designated driver\",\n",
    "                \"sex is great - Mikey\",\n",
    "                \"gives concussions\",\n",
    "                \"misses dirty jokes (coming around)\",\n",
    "                \"friends with Quy\",\n",
    "                \"mysterious (won't go by Nick)\"\n",
    "            ],\n",
    "        \"Ryan\": \n",
    "            [\n",
    "                \"dresses well\",\n",
    "                \"doctorate\",\n",
    "                \"has good friends\",\n",
    "                \"willing to \\\"try new things\\\" ;)\",\n",
    "                \"makes Andie do Rumpleminze shots with him\",\n",
    "                \"threesome??\",\n",
    "                \"has a lot of gusto, not much follow-through\",\n",
    "                \"works a lot\",\n",
    "                \"macks at bars\",\n",
    "                \"in love with Mitchel and Jackson, but acts upon it\"\n",
    "            ],\n",
    "        \"Jackson\":\n",
    "            [\n",
    "                \"always down\",\n",
    "                \"can drive (and teach) stick\",\n",
    "                \"not afraid to be silly\",\n",
    "                \"smart but is stupid abt it\"\n",
    "                \"loyal as all heck\",\n",
    "                \"shit is all over the place, but trying\",\n",
    "                \"messy\",\n",
    "                \"in love with Mitchel\",\n",
    "                \"doubts himself\",\n",
    "                \"still has homework :(\",\n",
    "                \"is 21\"\n",
    "            ]\n",
    "    }\n"
   ]
  },
  {
   "cell_type": "code",
   "execution_count": 13,
   "metadata": {},
   "outputs": [
    {
     "name": "stdout",
     "output_type": "stream",
     "text": [
      "Connor: 11\n",
      "Nicholas: 11\n",
      "Ryan: 10\n",
      "Jackson: 10\n"
     ]
    }
   ],
   "source": [
    "for boy, attribs in boys.items():\n",
    "    print(f'{boy}: {len(attribs)}')"
   ]
  },
  {
   "cell_type": "code",
   "execution_count": 45,
   "metadata": {},
   "outputs": [
    {
     "name": "stdout",
     "output_type": "stream",
     "text": [
      "[('always down', 0), ('can drive (and teach) stick', 0), ('not afraid to be silly', 0), ('smart but is stupid abt itloyal as all heck', 0), ('shit is all over the place, but trying', 0), ('messy', 0), ('in love with Mitchel', 0), ('doubts himself', 0), ('still has homework :(', 0), ('is 21', 0)]\n"
     ]
    }
   ],
   "source": [
    "boys_map = {}\n",
    "for boy in boys:\n",
    "    boys_map[boy] = list(map(lambda attrib: (attrib, 0), boys[boy]))\n",
    "print(boys_map['Jackson'])"
   ]
  },
  {
   "cell_type": "code",
   "execution_count": 53,
   "metadata": {},
   "outputs": [],
   "source": [
    "def search_attrib(boy, search):\n",
    "    boy_attribs = boys_map.get(boy)\n",
    "    if(boy_attribs == None):\n",
    "        return (-1, \"no boy with that name\")\n",
    "    else:\n",
    "        for i in range(len(boy_attribs)):\n",
    "            if(search in boy_attribs[i][0]):\n",
    "                return (i, boy_attribs[i][0])\n",
    "        return (-1, 'attribute not found')"
   ]
  },
  {
   "cell_type": "code",
   "execution_count": 54,
   "metadata": {},
   "outputs": [
    {
     "name": "stdout",
     "output_type": "stream",
     "text": [
      "(1, 'can drive (and teach) stick')\n",
      "(-1, 'attribute not found')\n",
      "(-1, 'no boy with that name')\n"
     ]
    }
   ],
   "source": [
    "print(search_attrib('Jackson', 'stick'))\n",
    "print(search_attrib('Jackson', 'alien'))\n",
    "print(search_attrib('onsesadkjlfh', 'booty'))"
   ]
  },
  {
   "cell_type": "code",
   "execution_count": 55,
   "metadata": {},
   "outputs": [],
   "source": [
    "def search_and_get_score(boy, search):\n",
    "    search_res = search_attrib(boy, search)\n",
    "    if(search_res[0] == -1):\n",
    "        return (search_res[1], -1)\n",
    "    \n",
    "    return (search_res[1], boys_map[boy][search_res[0]][1])"
   ]
  },
  {
   "cell_type": "code",
   "execution_count": 56,
   "metadata": {},
   "outputs": [
    {
     "name": "stdout",
     "output_type": "stream",
     "text": [
      "('can drive (and teach) stick', 0)\n",
      "('attribute not found', -1)\n",
      "('no boy with that name', -1)\n"
     ]
    }
   ],
   "source": [
    "print(search_and_get_score('Jackson', 'stick'))\n",
    "print(search_and_get_score('Jackson', 'alien'))\n",
    "print(search_and_get_score('onsesadkjlfh', 'booty'))"
   ]
  },
  {
   "cell_type": "code",
   "execution_count": 57,
   "metadata": {},
   "outputs": [],
   "source": [
    "def search_and_set_score(boy, search, new_score):\n",
    "    search_res = search_attrib(boy, search)\n",
    "    if(search_res[0] == -1 or search_res[0]):\n",
    "        return (search_res[1], -1)\n",
    "\n",
    "    boys_map[boy][search_res[0]] = (boys_map[boy][search_res[0]][1], new_score)\n",
    "    \n",
    "    return (search_res[1], boys_map[boy][search_res[0]][1])"
   ]
  },
  {
   "cell_type": "code",
   "execution_count": 58,
   "metadata": {},
   "outputs": [
    {
     "name": "stdout",
     "output_type": "stream",
     "text": [
      "('can drive (and teach) stick', -1)\n",
      "('attribute not found', -1)\n",
      "('no boy with that name', -1)\n"
     ]
    }
   ],
   "source": [
    "print(search_and_set_score('Jackson', 'stick', 10))\n",
    "print(search_and_set_score('Jackson', 'alien', 10))\n",
    "print(search_and_set_score('onsesadkjlfh', 'booty', 10))"
   ]
  },
  {
   "cell_type": "code",
   "execution_count": null,
   "metadata": {},
   "outputs": [],
   "source": []
  }
 ],
 "metadata": {
  "kernelspec": {
   "display_name": "Python 3",
   "language": "python",
   "name": "python3"
  },
  "language_info": {
   "codemirror_mode": {
    "name": "ipython",
    "version": 3
   },
   "file_extension": ".py",
   "mimetype": "text/x-python",
   "name": "python",
   "nbconvert_exporter": "python",
   "pygments_lexer": "ipython3",
   "version": "3.8.10"
  },
  "orig_nbformat": 4,
  "vscode": {
   "interpreter": {
    "hash": "e7370f93d1d0cde622a1f8e1c04877d8463912d04d973331ad4851f04de6915a"
   }
  }
 },
 "nbformat": 4,
 "nbformat_minor": 2
}
